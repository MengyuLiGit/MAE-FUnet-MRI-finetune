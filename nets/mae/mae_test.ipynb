{
 "cells": [
  {
   "cell_type": "code",
   "execution_count": 1,
   "id": "initial_id",
   "metadata": {
    "collapsed": true,
    "ExecuteTime": {
     "end_time": "2024-07-22T20:37:56.367185Z",
     "start_time": "2024-07-22T20:37:53.110744Z"
    }
   },
   "outputs": [
    {
     "name": "stdout",
     "output_type": "stream",
     "text": [
      "device: cuda:0\n"
     ]
    }
   ],
   "source": [
    "import torch\n",
    "import os\n",
    "from nets.mae.models_mae import mae_vit_base_patch16, mae_vit_large_patch16\n",
    "device = torch.device(\"cuda:0\" if torch.cuda.is_available() else \"cpu\")\n",
    "print('device:', device)\n",
    "from help_func import  print_var_detail"
   ]
  },
  {
   "cell_type": "code",
   "outputs": [],
   "source": [
    "# ====== model and training ======\n",
    "net = mae_vit_base_patch16()\n",
    "optimizer = torch.optim.AdamW(net.parameters(), lr=1.5e-4)"
   ],
   "metadata": {
    "collapsed": false,
    "ExecuteTime": {
     "end_time": "2024-07-22T20:37:57.259621Z",
     "start_time": "2024-07-22T20:37:56.368218Z"
    }
   },
   "id": "1f5e3285a922369e",
   "execution_count": 2
  },
  {
   "cell_type": "code",
   "outputs": [
    {
     "name": "stdout",
     "output_type": "stream",
     "text": [
      " is a  <class 'torch.Tensor'> with shape torch.Size([2, 3, 224, 224]) max:  tensor(4.3060) min:  tensor(-5.0016)\n"
     ]
    }
   ],
   "source": [
    "INPUT_SIZE = 224\n",
    "BATCH_SIZE = 2\n",
    "\n",
    "input = torch.randn((BATCH_SIZE, 3, INPUT_SIZE, INPUT_SIZE))\n",
    "print_var_detail(input)"
   ],
   "metadata": {
    "collapsed": false,
    "ExecuteTime": {
     "end_time": "2024-07-22T20:37:57.266975Z",
     "start_time": "2024-07-22T20:37:57.260621Z"
    }
   },
   "id": "5de06d62e8f1d08a",
   "execution_count": 3
  },
  {
   "cell_type": "code",
   "outputs": [
    {
     "data": {
      "text/plain": "MaskedAutoencoderViT(\n  (patch_embed): PatchEmbed(\n    (proj): Conv2d(3, 768, kernel_size=(16, 16), stride=(16, 16))\n  )\n  (blocks): ModuleList(\n    (0-11): 12 x Block(\n      (norm1): LayerNorm((768,), eps=1e-06, elementwise_affine=True)\n      (attn): Attention(\n        (qkv): Linear(in_features=768, out_features=2304, bias=True)\n        (attn_drop): Dropout(p=0.0, inplace=False)\n        (proj): Linear(in_features=768, out_features=768, bias=True)\n        (proj_drop): Dropout(p=0.0, inplace=False)\n      )\n      (drop_path): Identity()\n      (norm2): LayerNorm((768,), eps=1e-06, elementwise_affine=True)\n      (mlp): Mlp(\n        (fc1): Linear(in_features=768, out_features=3072, bias=True)\n        (act): GELU(approximate='none')\n        (fc2): Linear(in_features=3072, out_features=768, bias=True)\n        (drop): Dropout(p=0.0, inplace=False)\n      )\n    )\n  )\n  (norm): LayerNorm((768,), eps=1e-06, elementwise_affine=True)\n  (decoder_embed): Linear(in_features=768, out_features=512, bias=True)\n  (decoder_blocks): ModuleList(\n    (0-7): 8 x Block(\n      (norm1): LayerNorm((512,), eps=1e-06, elementwise_affine=True)\n      (attn): Attention(\n        (qkv): Linear(in_features=512, out_features=1536, bias=True)\n        (attn_drop): Dropout(p=0.0, inplace=False)\n        (proj): Linear(in_features=512, out_features=512, bias=True)\n        (proj_drop): Dropout(p=0.0, inplace=False)\n      )\n      (drop_path): Identity()\n      (norm2): LayerNorm((512,), eps=1e-06, elementwise_affine=True)\n      (mlp): Mlp(\n        (fc1): Linear(in_features=512, out_features=2048, bias=True)\n        (act): GELU(approximate='none')\n        (fc2): Linear(in_features=2048, out_features=512, bias=True)\n        (drop): Dropout(p=0.0, inplace=False)\n      )\n    )\n  )\n  (decoder_norm): LayerNorm((512,), eps=1e-06, elementwise_affine=True)\n  (decoder_pred): Linear(in_features=512, out_features=768, bias=True)\n)"
     },
     "execution_count": 4,
     "metadata": {},
     "output_type": "execute_result"
    }
   ],
   "source": [
    "net"
   ],
   "metadata": {
    "collapsed": false,
    "ExecuteTime": {
     "end_time": "2024-07-22T20:37:57.275682Z",
     "start_time": "2024-07-22T20:37:57.268013Z"
    }
   },
   "id": "83beee9b251a80f6",
   "execution_count": 4
  },
  {
   "cell_type": "code",
   "outputs": [],
   "source": [
    "# \n",
    "for param in net.patch_embed.parameters():\n",
    "    param.requires_grad = False\n",
    "for param in net.blocks.parameters():\n",
    "    param.requires_grad = False\n",
    "for param in net.norm.parameters():\n",
    "    param.requires_grad = False"
   ],
   "metadata": {
    "collapsed": false,
    "ExecuteTime": {
     "end_time": "2024-07-22T04:59:32.754625Z",
     "start_time": "2024-07-22T04:59:32.750551Z"
    }
   },
   "id": "23f2f5a5013305ac",
   "execution_count": 5
  },
  {
   "cell_type": "code",
   "outputs": [],
   "source": [
    "for param in net.parameters():\n",
    "    param.requires_grad = False"
   ],
   "metadata": {
    "collapsed": false,
    "ExecuteTime": {
     "end_time": "2024-07-22T20:38:00.824441Z",
     "start_time": "2024-07-22T20:38:00.821148Z"
    }
   },
   "id": "99eab4c73819550f",
   "execution_count": 5
  },
  {
   "cell_type": "code",
   "outputs": [
    {
     "name": "stdout",
     "output_type": "stream",
     "text": [
      "144\n"
     ]
    }
   ],
   "source": [
    "has_freeze_param = 0\n",
    "for param in net.blocks.parameters():\n",
    "    if param.requires_grad == False:\n",
    "        has_freeze_param += 1\n",
    "print(has_freeze_param)"
   ],
   "metadata": {
    "collapsed": false,
    "ExecuteTime": {
     "end_time": "2024-07-22T20:38:02.583743Z",
     "start_time": "2024-07-22T20:38:02.579987Z"
    }
   },
   "id": "586e7932b685feeb",
   "execution_count": 6
  },
  {
   "cell_type": "code",
   "outputs": [
    {
     "data": {
      "text/plain": "MaskedAutoencoderViT(\n  (patch_embed): PatchEmbed(\n    (proj): Conv2d(3, 768, kernel_size=(16, 16), stride=(16, 16))\n  )\n  (blocks): ModuleList(\n    (0-11): 12 x Block(\n      (norm1): LayerNorm((768,), eps=1e-06, elementwise_affine=True)\n      (attn): Attention(\n        (qkv): Linear(in_features=768, out_features=2304, bias=True)\n        (attn_drop): Dropout(p=0.0, inplace=False)\n        (proj): Linear(in_features=768, out_features=768, bias=True)\n        (proj_drop): Dropout(p=0.0, inplace=False)\n      )\n      (drop_path): Identity()\n      (norm2): LayerNorm((768,), eps=1e-06, elementwise_affine=True)\n      (mlp): Mlp(\n        (fc1): Linear(in_features=768, out_features=3072, bias=True)\n        (act): GELU(approximate='none')\n        (fc2): Linear(in_features=3072, out_features=768, bias=True)\n        (drop): Dropout(p=0.0, inplace=False)\n      )\n    )\n  )\n  (norm): LayerNorm((768,), eps=1e-06, elementwise_affine=True)\n  (decoder_embed): Linear(in_features=768, out_features=512, bias=True)\n  (decoder_blocks): ModuleList(\n    (0-7): 8 x Block(\n      (norm1): LayerNorm((512,), eps=1e-06, elementwise_affine=True)\n      (attn): Attention(\n        (qkv): Linear(in_features=512, out_features=1536, bias=True)\n        (attn_drop): Dropout(p=0.0, inplace=False)\n        (proj): Linear(in_features=512, out_features=512, bias=True)\n        (proj_drop): Dropout(p=0.0, inplace=False)\n      )\n      (drop_path): Identity()\n      (norm2): LayerNorm((512,), eps=1e-06, elementwise_affine=True)\n      (mlp): Mlp(\n        (fc1): Linear(in_features=512, out_features=2048, bias=True)\n        (act): GELU(approximate='none')\n        (fc2): Linear(in_features=2048, out_features=512, bias=True)\n        (drop): Dropout(p=0.0, inplace=False)\n      )\n    )\n  )\n  (decoder_norm): LayerNorm((512,), eps=1e-06, elementwise_affine=True)\n  (decoder_pred): Linear(in_features=512, out_features=768, bias=True)\n)"
     },
     "execution_count": 7,
     "metadata": {},
     "output_type": "execute_result"
    }
   ],
   "source": [
    "net.train()"
   ],
   "metadata": {
    "collapsed": false,
    "ExecuteTime": {
     "end_time": "2024-07-22T04:59:45.310763Z",
     "start_time": "2024-07-22T04:59:45.304186Z"
    }
   },
   "id": "5e576b815bf8bb10",
   "execution_count": 7
  },
  {
   "cell_type": "code",
   "outputs": [],
   "source": [],
   "metadata": {
    "collapsed": false
   },
   "id": "81896d267e355e5a",
   "execution_count": null
  },
  {
   "cell_type": "code",
   "outputs": [
    {
     "name": "stdout",
     "output_type": "stream",
     "text": [
      " is a  <class 'torch.Tensor'> with shape torch.Size([2, 196, 768]) max:  tensor(4.5289, grad_fn=<MaxBackward1>) min:  tensor(-4.3109, grad_fn=<MinBackward1>)\n"
     ]
    }
   ],
   "source": [
    "x, mask, ids_restore = net.forward_encoder(input, 0)\n",
    "# remove cls token\n",
    "x = x[:, 1:, :]\n",
    "print_var_detail(x)"
   ],
   "metadata": {
    "collapsed": false,
    "ExecuteTime": {
     "end_time": "2024-07-22T05:12:05.131926Z",
     "start_time": "2024-07-22T05:12:04.641316Z"
    }
   },
   "id": "d15afe8a45abfd7",
   "execution_count": 9
  },
  {
   "cell_type": "code",
   "outputs": [],
   "source": [
    "# pred = net.forward_decoder(x, ids_restore)"
   ],
   "metadata": {
    "collapsed": false,
    "ExecuteTime": {
     "end_time": "2024-07-22T04:21:06.731026Z",
     "start_time": "2024-07-22T04:21:06.545323Z"
    }
   },
   "id": "7109c7a841d173a0",
   "execution_count": 40
  },
  {
   "cell_type": "code",
   "outputs": [],
   "source": [
    "x = net.unpatchify(x)"
   ],
   "metadata": {
    "collapsed": false,
    "ExecuteTime": {
     "end_time": "2024-07-22T04:22:17.653314Z",
     "start_time": "2024-07-22T04:22:17.641351Z"
    }
   },
   "id": "d02940818403f95b",
   "execution_count": 44
  },
  {
   "cell_type": "code",
   "outputs": [
    {
     "name": "stdout",
     "output_type": "stream",
     "text": [
      " is a  <class 'torch.Tensor'> with shape torch.Size([2, 3, 224, 224]) max:  tensor(4.2414, grad_fn=<MaxBackward1>) min:  tensor(-4.3223, grad_fn=<MinBackward1>)\n"
     ]
    }
   ],
   "source": [
    "print_var_detail(x)"
   ],
   "metadata": {
    "collapsed": false,
    "ExecuteTime": {
     "end_time": "2024-07-22T04:22:18.496533Z",
     "start_time": "2024-07-22T04:22:18.490826Z"
    }
   },
   "id": "682890489b030d75",
   "execution_count": 45
  },
  {
   "cell_type": "code",
   "outputs": [],
   "source": [],
   "metadata": {
    "collapsed": false
   },
   "id": "38fc3980e3f14398",
   "execution_count": null
  }
 ],
 "metadata": {
  "kernelspec": {
   "display_name": "Python 3",
   "language": "python",
   "name": "python3"
  },
  "language_info": {
   "codemirror_mode": {
    "name": "ipython",
    "version": 2
   },
   "file_extension": ".py",
   "mimetype": "text/x-python",
   "name": "python",
   "nbconvert_exporter": "python",
   "pygments_lexer": "ipython2",
   "version": "2.7.6"
  }
 },
 "nbformat": 4,
 "nbformat_minor": 5
}
