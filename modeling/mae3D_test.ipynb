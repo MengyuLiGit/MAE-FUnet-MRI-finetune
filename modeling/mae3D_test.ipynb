{
 "cells": [
  {
   "cell_type": "code",
   "execution_count": 1,
   "id": "initial_id",
   "metadata": {
    "collapsed": true,
    "ExecuteTime": {
     "end_time": "2024-11-17T23:31:30.764163Z",
     "start_time": "2024-11-17T23:31:23.715243Z"
    }
   },
   "outputs": [
    {
     "name": "stderr",
     "output_type": "stream",
     "text": [
      "C:\\Users\\limengyu\\AppData\\Local\\anaconda3\\Lib\\site-packages\\transformers\\utils\\generic.py:260: UserWarning: torch.utils._pytree._register_pytree_node is deprecated. Please use torch.utils._pytree.register_pytree_node instead.\n",
      "  torch.utils._pytree._register_pytree_node(\n"
     ]
    }
   ],
   "source": [
    "import torch\n",
    "from monai.networks.nets import SwinUNETR\n",
    "# \n",
    "# # Initialize the model\n",
    "# model = SwinUNETR(\n",
    "#     img_size=(96, 96, 96),  # Input image size\n",
    "#     in_channels=1,          # Number of input channels (e.g., 1 for grayscale MRI)\n",
    "#     out_channels=2,         # Number of output channels (e.g., number of segmentation classes)\n",
    "#     feature_size=48,        # Feature size\n",
    "#     use_checkpoint=True     # Use checkpointing to save memory\n",
    "# )\n",
    "# \n",
    "# # Example input tensor\n",
    "# input_tensor = torch.rand(1, 1, 96, 96, 96)  # Batch size 1, 1 channel, 96x96x96 volume\n",
    "# \n",
    "# # Forward pass\n",
    "# output = model(input_tensor)\n",
    "# print(output.shape)  # Output tensor shape\n",
    "from help_func import print_var_detail"
   ]
  },
  {
   "cell_type": "code",
   "outputs": [],
   "source": [
    "import numpy as np\n",
    "\n",
    "def get_3d_sincos_pos_embed(embed_dim, grid_size, cls_token=False):\n",
    "    \"\"\"\n",
    "    grid_size: tuple of (grid_d, grid_h, grid_w) representing depth, height, width of the grid\n",
    "    return:\n",
    "    pos_embed: [grid_d*grid_h*grid_w, embed_dim] or [1+grid_d*grid_h*grid_w, embed_dim] (w/ or w/o cls_token)\n",
    "    \"\"\"\n",
    "    grid_d = np.arange(grid_size[0], dtype=np.float32)\n",
    "    grid_h = np.arange(grid_size[1], dtype=np.float32)\n",
    "    grid_w = np.arange(grid_size[2], dtype=np.float32)\n",
    "    grid = np.meshgrid(grid_w, grid_h, grid_d, indexing='ij')  # w, h, d indexing\n",
    "    grid = np.stack(grid, axis=0)  # (3, grid_d, grid_h, grid_w)\n",
    "\n",
    "    grid = grid.reshape([3, -1])  # Flatten to (3, grid_d * grid_h * grid_w)\n",
    "    \n",
    "    \n",
    "    \n",
    "    pos_embed = get_3d_sincos_pos_embed_from_grid(embed_dim, grid)\n",
    "    \n",
    "    if cls_token:\n",
    "        pos_embed = np.concatenate([np.zeros([1, embed_dim]), pos_embed], axis=0)\n",
    "    return pos_embed\n",
    "\n",
    "\n",
    "def get_3d_sincos_pos_embed_from_grid(embed_dim, grid):\n",
    "    \"\"\"\n",
    "    embed_dim: Total embedding dimension\n",
    "    grid: flattened grid of shape (3, grid_d * grid_h * grid_w)\n",
    "    \"\"\"\n",
    "\n",
    "    assert embed_dim % 3 == 0  # Divide embedding equally among depth, height, and width\n",
    "    emb_d = get_1d_sincos_pos_embed_from_grid(embed_dim // 3, grid[0])  # Encode depth\n",
    "    emb_h = get_1d_sincos_pos_embed_from_grid(embed_dim // 3, grid[1])  # Encode height\n",
    "    emb_w = get_1d_sincos_pos_embed_from_grid(embed_dim // 3, grid[2])  # Encode width\n",
    "\n",
    "    emb = np.concatenate([emb_d, emb_h, emb_w], axis=1)  # Combine depth, height, and width embeddings\n",
    "    return emb\n",
    "\n",
    "def get_1d_sincos_pos_embed_from_grid(embed_dim, pos):\n",
    "    \"\"\"\n",
    "    embed_dim: output dimension for each position\n",
    "    pos: a list of positions to be encoded: size (M,)\n",
    "    out: (M, D)\n",
    "    \"\"\"\n",
    "    assert embed_dim % 2 == 0\n",
    "    omega = np.arange(embed_dim // 2, dtype=float)\n",
    "    omega /= embed_dim / 2.\n",
    "    omega = 1. / 10000**omega  # (D/2,)\n",
    "    pos = pos.reshape(-1)  # (M,)\n",
    "    \n",
    "    out = np.einsum('m,d->md', pos, omega)  # (M, D/2), outer product\n",
    "    emb_sin = np.sin(out) # (M, D/2)\n",
    "    emb_cos = np.cos(out) # (M, D/2)\n",
    "\n",
    "    emb = np.concatenate([emb_sin, emb_cos], axis=1)  # (M, D)\n",
    "    return emb"
   ],
   "metadata": {
    "collapsed": false,
    "ExecuteTime": {
     "end_time": "2024-11-17T23:31:30.772352Z",
     "start_time": "2024-11-17T23:31:30.765166Z"
    }
   },
   "id": "7ddad70a42efc4d3",
   "execution_count": 2
  },
  {
   "cell_type": "code",
   "outputs": [],
   "source": [
    "import torch\n",
    "import torch.nn as nn\n",
    "from monai.networks.blocks import PatchEmbed\n",
    "from timm.models.vision_transformer import Block\n",
    "\n",
    "class MaskedAutoencoder3D(nn.Module):\n",
    "    \"\"\"Masked Autoencoder with 3D Vision Transformer backbone.\"\"\"\n",
    "    def __init__(self, vol_size=(128, 128, 128), patch_size=16, in_chans=1,\n",
    "                 embed_dim=1024, depth=24, num_heads=16,\n",
    "                 decoder_embed_dim=512, decoder_depth=8, decoder_num_heads=16,\n",
    "                 mlp_ratio=4., norm_layer=nn.LayerNorm, norm_pix_loss=False):\n",
    "        super().__init__()\n",
    "        self.in_chans = in_chans\n",
    "        self.patch_size = patch_size\n",
    "        self.norm_pix_loss = norm_pix_loss\n",
    "        self.vol_size = vol_size\n",
    "        self.patch_size= patch_size\n",
    "\n",
    "        # --------------------------------------------------------------------------\n",
    "        # MAE encoder specifics\n",
    "        self.patch_embed = PatchEmbed(\n",
    "            patch_size=(patch_size, patch_size, patch_size),\n",
    "            in_chans=in_chans,\n",
    "            embed_dim=embed_dim,\n",
    "            spatial_dims=3,\n",
    "            norm_layer=norm_layer\n",
    "        )\n",
    "\n",
    "        num_patches = (vol_size[0] // patch_size) * (vol_size[1] // patch_size) * (vol_size[2] // patch_size)\n",
    "        self.num_patches = num_patches\n",
    "\n",
    "        self.cls_token = nn.Parameter(torch.zeros(1, 1, embed_dim))\n",
    "        self.pos_embed = nn.Parameter(torch.zeros(1, num_patches + 1, embed_dim), requires_grad=False)\n",
    "\n",
    "        self.blocks = nn.ModuleList([\n",
    "            Block(embed_dim, num_heads, mlp_ratio, qkv_bias=True, qk_scale=None, norm_layer=norm_layer)\n",
    "            for i in range(depth)])\n",
    "        self.norm = norm_layer(embed_dim)\n",
    "\n",
    "        # --------------------------------------------------------------------------\n",
    "        # MAE decoder specifics\n",
    "        self.decoder_embed = nn.Linear(embed_dim, decoder_embed_dim, bias=True)\n",
    "        self.mask_token = nn.Parameter(torch.zeros(1, 1, decoder_embed_dim))\n",
    "\n",
    "        self.decoder_pos_embed = nn.Parameter(torch.zeros(1, num_patches + 1, decoder_embed_dim), requires_grad=False)\n",
    "\n",
    "        self.decoder_blocks = nn.ModuleList([\n",
    "            Block(decoder_embed_dim, decoder_num_heads, mlp_ratio, qkv_bias=True, qk_scale=None, norm_layer=norm_layer)\n",
    "            for i in range(decoder_depth)])\n",
    "        self.decoder_norm = norm_layer(decoder_embed_dim)\n",
    "        self.decoder_pred = nn.Linear(decoder_embed_dim, patch_size ** 3 * in_chans, bias=True)  # decoder to patch\n",
    "\n",
    "        self.initialize_weights()\n",
    "\n",
    "    def initialize_weights(self):\n",
    "        grid_size = (\n",
    "        self.vol_size[0] // self.patch_size,  # Number of patches along Depth\n",
    "        self.vol_size[1] // self.patch_size,  # Number of patches along Height\n",
    "        self.vol_size[2] // self.patch_size,  # Number of patches along Width\n",
    "        )\n",
    "        pos_embed = get_3d_sincos_pos_embed(self.pos_embed.shape[-1], grid_size, cls_token=True)\n",
    "        print(pos_embed.shape)\n",
    "        print(self.pos_embed.data.shape)\n",
    "        self.pos_embed.data.copy_(torch.from_numpy(pos_embed).float().unsqueeze(0))\n",
    "\n",
    "        decoder_pos_embed = get_3d_sincos_pos_embed(self.decoder_pos_embed.shape[-1], grid_size, cls_token=True)\n",
    "        self.decoder_pos_embed.data.copy_(torch.from_numpy(decoder_pos_embed).float().unsqueeze(0))\n",
    "\n",
    "        torch.nn.init.normal_(self.cls_token, std=.02)\n",
    "        torch.nn.init.normal_(self.mask_token, std=.02)\n",
    "\n",
    "    def random_masking(self, x, mask_ratio):\n",
    "        \"\"\"\n",
    "        Perform per-sample random masking.\n",
    "        \"\"\"\n",
    "        N, L, D = x.shape\n",
    "        len_keep = int(L * (1 - mask_ratio))\n",
    "        noise = torch.rand(N, L, device=x.device)\n",
    "        ids_shuffle = torch.argsort(noise, dim=1)\n",
    "        ids_restore = torch.argsort(ids_shuffle, dim=1)\n",
    "        ids_keep = ids_shuffle[:, :len_keep]\n",
    "        x_masked = torch.gather(x, dim=1, index=ids_keep.unsqueeze(-1).expand(-1, -1, D))\n",
    "\n",
    "        mask = torch.ones([N, L], device=x.device)\n",
    "        mask[:, :len_keep] = 0\n",
    "        mask = torch.gather(mask, dim=1, index=ids_restore)\n",
    "        return x_masked, mask, ids_restore\n",
    "\n",
    "    def forward_encoder(self, x, mask_ratio):\n",
    "        print_var_detail(x, 'x0')\n",
    "        x = self.patch_embed(x).flatten(2).transpose(1, 2)  # Flatten and transpose\n",
    "        print_var_detail(x, 'x1')\n",
    "        print_var_detail(self.pos_embed[:, 1:, :], 'self.pos_embed[:, 1:, :]')\n",
    "        x = x + self.pos_embed[:, 1:, :]\n",
    "        x, mask, ids_restore = self.random_masking(x, mask_ratio)\n",
    "        cls_token = self.cls_token + self.pos_embed[:, :1, :]\n",
    "        cls_tokens = cls_token.expand(x.shape[0], -1, -1)\n",
    "        x = torch.cat((cls_tokens, x), dim=1)\n",
    "\n",
    "        for blk in self.blocks:\n",
    "            x = blk(x)\n",
    "        x = self.norm(x)\n",
    "        return x, mask, ids_restore\n",
    "\n",
    "    def forward_decoder(self, x, ids_restore):\n",
    "        x = self.decoder_embed(x)\n",
    "        mask_tokens = self.mask_token.repeat(x.shape[0], ids_restore.shape[1] + 1 - x.shape[1], 1)\n",
    "        x_unmasked = torch.cat([x[:, 1:, :], mask_tokens], dim=1)\n",
    "        x_unmasked = torch.gather(x_unmasked, dim=1, index=ids_restore.unsqueeze(-1).expand(-1, -1, x.shape[2]))\n",
    "        x = torch.cat([x[:, :1, :], x_unmasked], dim=1)\n",
    "        x = x + self.decoder_pos_embed\n",
    "\n",
    "        for blk in self.decoder_blocks:\n",
    "            x = blk(x)\n",
    "        x = self.decoder_norm(x)\n",
    "        x = self.decoder_pred(x)\n",
    "        return x[:, 1:, :]\n",
    "\n",
    "    def forward_loss(self, imgs, pred, mask):\n",
    "        \"\"\"\n",
    "        imgs: (B, C, D, H, W)\n",
    "        pred: (B, num_patches, patch_size^3 * C)\n",
    "        mask: (B, num_patches), 0 is keep, 1 is remove\n",
    "        \"\"\"\n",
    "        target = self.patchify(imgs)  # Convert original images to patch format\n",
    "        if self.norm_pix_loss:\n",
    "            mean = target.mean(dim=-1, keepdim=True)\n",
    "            var = target.var(dim=-1, keepdim=True)\n",
    "            target = (target - mean) / (var + 1.e-6) ** 0.5\n",
    "    \n",
    "        loss = (pred - target) ** 2\n",
    "        loss = loss.mean(dim=-1)  # Mean over patch dimensions\n",
    "        return (loss * mask).sum() / mask.sum()  # Weighted mean over masked patches\n",
    "\n",
    "\n",
    "    def forward(self, imgs, mask_ratio=0.75):\n",
    "        latent, mask, ids_restore = self.forward_encoder(imgs, mask_ratio)\n",
    "        pred = self.forward_decoder(latent, ids_restore)\n",
    "        loss = self.forward_loss(imgs, pred, mask)\n",
    "        return loss, pred, mask\n",
    "    \n",
    "    def patchify(self, imgs):\n",
    "        \"\"\"\n",
    "        Break a 3D volume into non-overlapping patches.\n",
    "        Args:\n",
    "            imgs (torch.Tensor): Input tensor of shape (B, C, D, H, W).\n",
    "        Returns:\n",
    "            torch.Tensor: Flattened patches of shape (B, num_patches, patch_size^3 * C).\n",
    "        \"\"\"\n",
    "        p = self.patch_size  # Patch size (assumed isotropic for simplicity)\n",
    "        assert imgs.shape[2] % p == 0 and imgs.shape[3] % p == 0 and imgs.shape[4] % p == 0, \\\n",
    "            f\"Volume dimensions {imgs.shape[2:]} must be divisible by patch size {p}\"\n",
    "    \n",
    "        # Reshape and permute to create patches\n",
    "        d, h, w = imgs.shape[2] // p, imgs.shape[3] // p, imgs.shape[4] // p\n",
    "        x = imgs.reshape(imgs.shape[0], imgs.shape[1], d, p, h, p, w, p)\n",
    "        x = x.permute(0, 2, 4, 6, 1, 3, 5, 7).contiguous()  # (B, D, H, W, C, p, p, p)\n",
    "        x = x.reshape(imgs.shape[0], d * h * w, p ** 3 * imgs.shape[1])  # Flatten patches\n",
    "        return x\n",
    "\n",
    "    def unpatchify(self, x):\n",
    "        \"\"\"\n",
    "        Reconstruct the 3D volume from flattened patches.\n",
    "        Args:\n",
    "            x (torch.Tensor): Flattened patches of shape (B, num_patches, patch_size^3 * C).\n",
    "        Returns:\n",
    "            torch.Tensor: Reconstructed volume of shape (B, C, D, H, W).\n",
    "        \"\"\"\n",
    "        p = self.patch_size  # Patch size (assumed isotropic for simplicity)\n",
    "        d = h = w = cubic_root(x.shape[1])  # Number of patches along each dimension\n",
    "        print_var_detail(x,'xx')\n",
    "        print(d)\n",
    "        assert d * h * w == x.shape[1], \"Number of patches does not form a cube\"\n",
    "        \n",
    "        c = x.shape[2] // (p ** 3)  # Derive the number of channels from the flattened patch size\n",
    "        \n",
    "        # Reshape patches back to structured volume\n",
    "        x = x.reshape(x.shape[0], d, h, w, c, p, p, p)  # (B, D, H, W, C, p, p, p)\n",
    "        x = x.permute(0, 4, 1, 5, 2, 6, 3, 7).contiguous()  # Rearrange dimensions to (B, C, D*p, H*p, W*p)\n",
    "        x = x.reshape(x.shape[0], c, d * p, h * p, w * p)  # Merge patch dimensions\n",
    "        return x\n",
    "\n",
    "\n",
    "def cubic_root(n):\n",
    "    \"\"\"\n",
    "    Compute the integer cubic root of a perfect cube.\n",
    "    Args:\n",
    "        n (int): The input number (must be a perfect cube).\n",
    "    Returns:\n",
    "        int: The integer cubic root of n.\n",
    "    \"\"\"\n",
    "    root = round(n ** (1 / 3))  # Compute the approximate cubic root\n",
    "    if root ** 3 != n:  # Verify the result\n",
    "        raise ValueError(f\"The input {n} is not a perfect cube.\")\n",
    "    return root\n"
   ],
   "metadata": {
    "collapsed": false,
    "ExecuteTime": {
     "end_time": "2024-11-17T23:31:30.893472Z",
     "start_time": "2024-11-17T23:31:30.772352Z"
    }
   },
   "id": "5ab840967b43f5bb",
   "execution_count": 3
  },
  {
   "cell_type": "code",
   "outputs": [
    {
     "data": {
      "text/plain": "12"
     },
     "execution_count": 4,
     "metadata": {},
     "output_type": "execute_result"
    }
   ],
   "source": [
    "cubic_root(1728)"
   ],
   "metadata": {
    "collapsed": false,
    "ExecuteTime": {
     "end_time": "2024-11-17T23:31:30.898848Z",
     "start_time": "2024-11-17T23:31:30.894475Z"
    }
   },
   "id": "95734780bd5df04a",
   "execution_count": 4
  },
  {
   "cell_type": "code",
   "outputs": [
    {
     "name": "stdout",
     "output_type": "stream",
     "text": [
      "(4097, 1536)\n",
      "torch.Size([1, 4097, 1536])\n"
     ]
    }
   ],
   "source": [
    "# Instantiate the model\n",
    "model = MaskedAutoencoder3D(vol_size=(256, 256, 256), patch_size=16, in_chans=1, embed_dim=1536, num_heads=16, decoder_embed_dim=768)\n",
    "\n",
    "\n"
   ],
   "metadata": {
    "collapsed": false,
    "ExecuteTime": {
     "end_time": "2024-11-17T23:31:40.497642Z",
     "start_time": "2024-11-17T23:31:37.199656Z"
    }
   },
   "id": "de05925dcff244b3",
   "execution_count": 5
  },
  {
   "cell_type": "code",
   "outputs": [
    {
     "name": "stdout",
     "output_type": "stream",
     "text": [
      " is a  <class 'torch.Tensor'> with shape torch.Size([1, 1536, 16, 16, 16]) max:  tensor(4.3773, grad_fn=<MaxBackward1>) min:  tensor(-4.3615, grad_fn=<MinBackward1>)\n"
     ]
    }
   ],
   "source": [
    "input_tensor = torch.rand(1, 1, 256, 256, 256)  # Batch size 2, channels 1, volume 128x128x128\n",
    "asd = model.patch_embed(input_tensor)\n",
    "print_var_detail(asd)"
   ],
   "metadata": {
    "collapsed": false,
    "ExecuteTime": {
     "end_time": "2024-11-17T23:32:16.318854Z",
     "start_time": "2024-11-17T23:32:16.123156Z"
    }
   },
   "id": "72f156d68b1b0d82",
   "execution_count": 7
  },
  {
   "cell_type": "code",
   "outputs": [],
   "source": [
    "# Input 3D MRI volume\n",
    "\n",
    "loss, pred, mask = model(input_tensor, mask_ratio=0.75)\n",
    "\n",
    "# Reconstruct volume\n",
    "reconstructed_volume = model.unpatchify(pred)\n",
    "print(f\"Loss: {loss.item()}, Pred Shape: {pred.shape}, Reconstructed Volume Shape: {reconstructed_volume.shape}\")"
   ],
   "metadata": {
    "collapsed": false
   },
   "id": "cf3ea14c24e12cf3",
   "execution_count": null
  },
  {
   "cell_type": "code",
   "outputs": [
    {
     "name": "stdout",
     "output_type": "stream",
     "text": [
      " is a  <class 'torch.Tensor'> with shape torch.Size([1, 4096]) max:  tensor(1.) min:  tensor(0.)\n"
     ]
    }
   ],
   "source": [
    "print_var_detail(mask)"
   ],
   "metadata": {
    "collapsed": false,
    "ExecuteTime": {
     "end_time": "2024-11-17T09:37:32.319026Z",
     "start_time": "2024-11-17T09:37:32.314940Z"
    }
   },
   "id": "74ce497f79c72fb",
   "execution_count": 100
  },
  {
   "cell_type": "code",
   "outputs": [
    {
     "name": "stdout",
     "output_type": "stream",
     "text": [
      "xx is a  <class 'torch.Tensor'> with shape torch.Size([1, 4096, 4096]) max:  tensor(1.) min:  tensor(0.)\n",
      "16\n",
      " is a  <class 'torch.Tensor'> with shape torch.Size([1, 1, 256, 256, 256]) max:  tensor(1.) min:  tensor(0.)\n"
     ]
    }
   ],
   "source": [
    "def reshape_mask(mask, vol_size, patch_size):\n",
    "    \"\"\"\n",
    "    Reshape the mask to match the 3D volume grid.\n",
    "    Args:\n",
    "        mask (torch.Tensor): Mask of shape (B, num_patches).\n",
    "        vol_size (tuple): Original MRI volume size (D, H, W).\n",
    "        patch_size (int): Patch size for each dimension.\n",
    "    Returns:\n",
    "        torch.Tensor: Mask reshaped to 3D grid (B, D, H, W).\n",
    "    \"\"\"\n",
    "    B, num_patches = mask.shape\n",
    "    D, H, W = vol_size[0] // patch_size, vol_size[1] // patch_size, vol_size[2] // patch_size\n",
    "\n",
    "    # Reshape to 3D grid\n",
    "    mask_3d = mask.reshape(B, D, H, W)\n",
    "    return mask_3d\n",
    "# mask_3d = reshape_mask(mask, (256, 256, 256), 16)\n",
    "mask_3d = mask.unsqueeze(-1).repeat(1, 1, model.in_chans * model.patch_size ** 3)\n",
    "mask_3d = model.unpatchify(mask_3d)\n",
    "print_var_detail(mask_3d)"
   ],
   "metadata": {
    "collapsed": false,
    "ExecuteTime": {
     "end_time": "2024-11-17T09:37:38.542630Z",
     "start_time": "2024-11-17T09:37:38.465830Z"
    }
   },
   "id": "d75253d7f4891028",
   "execution_count": 101
  },
  {
   "cell_type": "code",
   "outputs": [
    {
     "data": {
      "text/plain": "<Figure size 1500x500 with 18 Axes>",
      "image/png": "[encoded data removed]"
     },
     "metadata": {},
     "output_type": "display_data"
    }
   ],
   "source": [
    "import matplotlib.pyplot as plt\n",
    "\n",
    "def display_3d_mask(mask_3d, num_slices=6):\n",
    "    \"\"\"\n",
    "    Display slices of a 3D mask using matplotlib.\n",
    "    Args:\n",
    "        mask_3d (torch.Tensor): 3D mask tensor of shape (D, H, W).\n",
    "        num_slices (int): Number of slices to display along the depth dimension.\n",
    "    \"\"\"\n",
    "    mask_3d = mask_3d.squeeze(0).cpu().numpy()  # Remove batch dimension and convert to numpy\n",
    "    D = mask_3d.shape[0]  # Depth of the volume\n",
    "\n",
    "    # Determine slice indices to display\n",
    "    slice_indices = [int(i * D / num_slices) for i in range(num_slices)]\n",
    "\n",
    "    # Create a figure with subplots\n",
    "    fig, axes = plt.subplots(1, num_slices, figsize=(15, 5))\n",
    "    for i, ax in enumerate(axes):\n",
    "        ax.imshow(mask_3d[slice_indices[i]], cmap=\"gray\")\n",
    "        ax.axis(\"off\")\n",
    "        ax.set_title(f\"Slice {slice_indices[i]}\")\n",
    "\n",
    "    plt.tight_layout()\n",
    "    plt.show()\n",
    "\n",
    "\n",
    "# Display the 3D mask\n",
    "display_3d_mask(mask_3d[0], num_slices=18)\n"
   ],
   "metadata": {
    "collapsed": false,
    "ExecuteTime": {
     "end_time": "2024-11-17T09:38:46.818834Z",
     "start_time": "2024-11-17T09:38:46.159849Z"
    }
   },
   "id": "66b385e403990bdd",
   "execution_count": 107
  },
  {
   "cell_type": "code",
   "outputs": [
    {
     "ename": "TypeError",
     "evalue": "TransformerDecoderLayer.forward() missing 1 required positional argument: 'memory'",
     "output_type": "error",
     "traceback": [
      "\u001B[1;31m---------------------------------------------------------------------------\u001B[0m",
      "\u001B[1;31mTypeError\u001B[0m                                 Traceback (most recent call last)",
      "Cell \u001B[1;32mIn[9], line 3\u001B[0m\n\u001B[0;32m      1\u001B[0m \u001B[38;5;66;03m# Test input\u001B[39;00m\n\u001B[0;32m      2\u001B[0m input_tensor \u001B[38;5;241m=\u001B[39m torch\u001B[38;5;241m.\u001B[39mrand(\u001B[38;5;241m1\u001B[39m, \u001B[38;5;241m1\u001B[39m, \u001B[38;5;241m128\u001B[39m, \u001B[38;5;241m128\u001B[39m, \u001B[38;5;241m128\u001B[39m)  \u001B[38;5;66;03m# Batch size 2, channels 1, volume 128x128x128\u001B[39;00m\n\u001B[1;32m----> 3\u001B[0m output \u001B[38;5;241m=\u001B[39m model(input_tensor)\n\u001B[0;32m      4\u001B[0m \u001B[38;5;28mprint\u001B[39m(\u001B[38;5;124mf\u001B[39m\u001B[38;5;124m\"\u001B[39m\u001B[38;5;124mOutput shape: \u001B[39m\u001B[38;5;132;01m{\u001B[39;00moutput\u001B[38;5;241m.\u001B[39mshape\u001B[38;5;132;01m}\u001B[39;00m\u001B[38;5;124m\"\u001B[39m)\n",
      "File \u001B[1;32m~\\AppData\\Roaming\\Python\\Python311\\site-packages\\torch\\nn\\modules\\module.py:1511\u001B[0m, in \u001B[0;36mModule._wrapped_call_impl\u001B[1;34m(self, *args, **kwargs)\u001B[0m\n\u001B[0;32m   1509\u001B[0m     \u001B[38;5;28;01mreturn\u001B[39;00m \u001B[38;5;28mself\u001B[39m\u001B[38;5;241m.\u001B[39m_compiled_call_impl(\u001B[38;5;241m*\u001B[39margs, \u001B[38;5;241m*\u001B[39m\u001B[38;5;241m*\u001B[39mkwargs)  \u001B[38;5;66;03m# type: ignore[misc]\u001B[39;00m\n\u001B[0;32m   1510\u001B[0m \u001B[38;5;28;01melse\u001B[39;00m:\n\u001B[1;32m-> 1511\u001B[0m     \u001B[38;5;28;01mreturn\u001B[39;00m \u001B[38;5;28mself\u001B[39m\u001B[38;5;241m.\u001B[39m_call_impl(\u001B[38;5;241m*\u001B[39margs, \u001B[38;5;241m*\u001B[39m\u001B[38;5;241m*\u001B[39mkwargs)\n",
      "File \u001B[1;32m~\\AppData\\Roaming\\Python\\Python311\\site-packages\\torch\\nn\\modules\\module.py:1520\u001B[0m, in \u001B[0;36mModule._call_impl\u001B[1;34m(self, *args, **kwargs)\u001B[0m\n\u001B[0;32m   1515\u001B[0m \u001B[38;5;66;03m# If we don't have any hooks, we want to skip the rest of the logic in\u001B[39;00m\n\u001B[0;32m   1516\u001B[0m \u001B[38;5;66;03m# this function, and just call forward.\u001B[39;00m\n\u001B[0;32m   1517\u001B[0m \u001B[38;5;28;01mif\u001B[39;00m \u001B[38;5;129;01mnot\u001B[39;00m (\u001B[38;5;28mself\u001B[39m\u001B[38;5;241m.\u001B[39m_backward_hooks \u001B[38;5;129;01mor\u001B[39;00m \u001B[38;5;28mself\u001B[39m\u001B[38;5;241m.\u001B[39m_backward_pre_hooks \u001B[38;5;129;01mor\u001B[39;00m \u001B[38;5;28mself\u001B[39m\u001B[38;5;241m.\u001B[39m_forward_hooks \u001B[38;5;129;01mor\u001B[39;00m \u001B[38;5;28mself\u001B[39m\u001B[38;5;241m.\u001B[39m_forward_pre_hooks\n\u001B[0;32m   1518\u001B[0m         \u001B[38;5;129;01mor\u001B[39;00m _global_backward_pre_hooks \u001B[38;5;129;01mor\u001B[39;00m _global_backward_hooks\n\u001B[0;32m   1519\u001B[0m         \u001B[38;5;129;01mor\u001B[39;00m _global_forward_hooks \u001B[38;5;129;01mor\u001B[39;00m _global_forward_pre_hooks):\n\u001B[1;32m-> 1520\u001B[0m     \u001B[38;5;28;01mreturn\u001B[39;00m forward_call(\u001B[38;5;241m*\u001B[39margs, \u001B[38;5;241m*\u001B[39m\u001B[38;5;241m*\u001B[39mkwargs)\n\u001B[0;32m   1522\u001B[0m \u001B[38;5;28;01mtry\u001B[39;00m:\n\u001B[0;32m   1523\u001B[0m     result \u001B[38;5;241m=\u001B[39m \u001B[38;5;28;01mNone\u001B[39;00m\n",
      "Cell \u001B[1;32mIn[6], line 84\u001B[0m, in \u001B[0;36mMaskedAutoencoder3D.forward\u001B[1;34m(self, x)\u001B[0m\n\u001B[0;32m     80\u001B[0m \u001B[38;5;250m\u001B[39m\u001B[38;5;124;03m\"\"\"\u001B[39;00m\n\u001B[0;32m     81\u001B[0m \u001B[38;5;124;03mFull forward pass.\u001B[39;00m\n\u001B[0;32m     82\u001B[0m \u001B[38;5;124;03m\"\"\"\u001B[39;00m\n\u001B[0;32m     83\u001B[0m latent \u001B[38;5;241m=\u001B[39m \u001B[38;5;28mself\u001B[39m\u001B[38;5;241m.\u001B[39mforward_encoder(x)\n\u001B[1;32m---> 84\u001B[0m reconstruction \u001B[38;5;241m=\u001B[39m \u001B[38;5;28mself\u001B[39m\u001B[38;5;241m.\u001B[39mforward_decoder(latent)\n\u001B[0;32m     85\u001B[0m \u001B[38;5;28;01mreturn\u001B[39;00m reconstruction\n",
      "Cell \u001B[1;32mIn[6], line 75\u001B[0m, in \u001B[0;36mMaskedAutoencoder3D.forward_decoder\u001B[1;34m(self, x)\u001B[0m\n\u001B[0;32m     73\u001B[0m x \u001B[38;5;241m=\u001B[39m \u001B[38;5;28mself\u001B[39m\u001B[38;5;241m.\u001B[39mdecoder_embed(x)\n\u001B[0;32m     74\u001B[0m \u001B[38;5;28;01mfor\u001B[39;00m blk \u001B[38;5;129;01min\u001B[39;00m \u001B[38;5;28mself\u001B[39m\u001B[38;5;241m.\u001B[39mdecoder_blocks:\n\u001B[1;32m---> 75\u001B[0m     x \u001B[38;5;241m=\u001B[39m blk(x)\n\u001B[0;32m     76\u001B[0m x \u001B[38;5;241m=\u001B[39m \u001B[38;5;28mself\u001B[39m\u001B[38;5;241m.\u001B[39mdecoder_pred(x)\n\u001B[0;32m     77\u001B[0m \u001B[38;5;28;01mreturn\u001B[39;00m x\n",
      "File \u001B[1;32m~\\AppData\\Roaming\\Python\\Python311\\site-packages\\torch\\nn\\modules\\module.py:1511\u001B[0m, in \u001B[0;36mModule._wrapped_call_impl\u001B[1;34m(self, *args, **kwargs)\u001B[0m\n\u001B[0;32m   1509\u001B[0m     \u001B[38;5;28;01mreturn\u001B[39;00m \u001B[38;5;28mself\u001B[39m\u001B[38;5;241m.\u001B[39m_compiled_call_impl(\u001B[38;5;241m*\u001B[39margs, \u001B[38;5;241m*\u001B[39m\u001B[38;5;241m*\u001B[39mkwargs)  \u001B[38;5;66;03m# type: ignore[misc]\u001B[39;00m\n\u001B[0;32m   1510\u001B[0m \u001B[38;5;28;01melse\u001B[39;00m:\n\u001B[1;32m-> 1511\u001B[0m     \u001B[38;5;28;01mreturn\u001B[39;00m \u001B[38;5;28mself\u001B[39m\u001B[38;5;241m.\u001B[39m_call_impl(\u001B[38;5;241m*\u001B[39margs, \u001B[38;5;241m*\u001B[39m\u001B[38;5;241m*\u001B[39mkwargs)\n",
      "File \u001B[1;32m~\\AppData\\Roaming\\Python\\Python311\\site-packages\\torch\\nn\\modules\\module.py:1520\u001B[0m, in \u001B[0;36mModule._call_impl\u001B[1;34m(self, *args, **kwargs)\u001B[0m\n\u001B[0;32m   1515\u001B[0m \u001B[38;5;66;03m# If we don't have any hooks, we want to skip the rest of the logic in\u001B[39;00m\n\u001B[0;32m   1516\u001B[0m \u001B[38;5;66;03m# this function, and just call forward.\u001B[39;00m\n\u001B[0;32m   1517\u001B[0m \u001B[38;5;28;01mif\u001B[39;00m \u001B[38;5;129;01mnot\u001B[39;00m (\u001B[38;5;28mself\u001B[39m\u001B[38;5;241m.\u001B[39m_backward_hooks \u001B[38;5;129;01mor\u001B[39;00m \u001B[38;5;28mself\u001B[39m\u001B[38;5;241m.\u001B[39m_backward_pre_hooks \u001B[38;5;129;01mor\u001B[39;00m \u001B[38;5;28mself\u001B[39m\u001B[38;5;241m.\u001B[39m_forward_hooks \u001B[38;5;129;01mor\u001B[39;00m \u001B[38;5;28mself\u001B[39m\u001B[38;5;241m.\u001B[39m_forward_pre_hooks\n\u001B[0;32m   1518\u001B[0m         \u001B[38;5;129;01mor\u001B[39;00m _global_backward_pre_hooks \u001B[38;5;129;01mor\u001B[39;00m _global_backward_hooks\n\u001B[0;32m   1519\u001B[0m         \u001B[38;5;129;01mor\u001B[39;00m _global_forward_hooks \u001B[38;5;129;01mor\u001B[39;00m _global_forward_pre_hooks):\n\u001B[1;32m-> 1520\u001B[0m     \u001B[38;5;28;01mreturn\u001B[39;00m forward_call(\u001B[38;5;241m*\u001B[39margs, \u001B[38;5;241m*\u001B[39m\u001B[38;5;241m*\u001B[39mkwargs)\n\u001B[0;32m   1522\u001B[0m \u001B[38;5;28;01mtry\u001B[39;00m:\n\u001B[0;32m   1523\u001B[0m     result \u001B[38;5;241m=\u001B[39m \u001B[38;5;28;01mNone\u001B[39;00m\n",
      "\u001B[1;31mTypeError\u001B[0m: TransformerDecoderLayer.forward() missing 1 required positional argument: 'memory'"
     ]
    }
   ],
   "source": [
    "\n",
    "# Test input\n",
    "input_tensor = torch.rand(1, 1, 128, 128, 128)  # Batch size 2, channels 1, volume 128x128x128\n",
    "output = model(input_tensor)\n",
    "print(f\"Output shape: {output.shape}\")"
   ],
   "metadata": {
    "collapsed": false,
    "ExecuteTime": {
     "end_time": "2024-11-17T07:40:15.937375Z",
     "start_time": "2024-11-17T07:40:14.577691Z"
    }
   },
   "id": "9d1cf6d44fefe0aa",
   "execution_count": 9
  },
  {
   "cell_type": "code",
   "outputs": [
    {
     "data": {
      "text/plain": "MaskedAutoencoder3D(\n  (encoder_embed): PatchEmbed(\n    (proj): Conv3d(1, 96, kernel_size=(4, 4, 4), stride=(4, 4, 4))\n    (norm): LayerNorm((96,), eps=1e-05, elementwise_affine=True)\n  )\n  (blocks): ModuleList(\n    (0): ModuleList(\n      (0-1): 2 x TransformerEncoderLayer(\n        (self_attn): MultiheadAttention(\n          (out_proj): NonDynamicallyQuantizableLinear(in_features=96, out_features=96, bias=True)\n        )\n        (linear1): Linear(in_features=96, out_features=384, bias=True)\n        (dropout): Dropout(p=0.1, inplace=False)\n        (linear2): Linear(in_features=384, out_features=96, bias=True)\n        (norm1): LayerNorm((96,), eps=1e-05, elementwise_affine=True)\n        (norm2): LayerNorm((96,), eps=1e-05, elementwise_affine=True)\n        (dropout1): Dropout(p=0.1, inplace=False)\n        (dropout2): Dropout(p=0.1, inplace=False)\n      )\n    )\n    (1): ModuleList(\n      (0-1): 2 x TransformerEncoderLayer(\n        (self_attn): MultiheadAttention(\n          (out_proj): NonDynamicallyQuantizableLinear(in_features=192, out_features=192, bias=True)\n        )\n        (linear1): Linear(in_features=192, out_features=768, bias=True)\n        (dropout): Dropout(p=0.1, inplace=False)\n        (linear2): Linear(in_features=768, out_features=192, bias=True)\n        (norm1): LayerNorm((192,), eps=1e-05, elementwise_affine=True)\n        (norm2): LayerNorm((192,), eps=1e-05, elementwise_affine=True)\n        (dropout1): Dropout(p=0.1, inplace=False)\n        (dropout2): Dropout(p=0.1, inplace=False)\n      )\n    )\n    (2): ModuleList(\n      (0-5): 6 x TransformerEncoderLayer(\n        (self_attn): MultiheadAttention(\n          (out_proj): NonDynamicallyQuantizableLinear(in_features=384, out_features=384, bias=True)\n        )\n        (linear1): Linear(in_features=384, out_features=1536, bias=True)\n        (dropout): Dropout(p=0.1, inplace=False)\n        (linear2): Linear(in_features=1536, out_features=384, bias=True)\n        (norm1): LayerNorm((384,), eps=1e-05, elementwise_affine=True)\n        (norm2): LayerNorm((384,), eps=1e-05, elementwise_affine=True)\n        (dropout1): Dropout(p=0.1, inplace=False)\n        (dropout2): Dropout(p=0.1, inplace=False)\n      )\n    )\n    (3): ModuleList(\n      (0-1): 2 x TransformerEncoderLayer(\n        (self_attn): MultiheadAttention(\n          (out_proj): NonDynamicallyQuantizableLinear(in_features=768, out_features=768, bias=True)\n        )\n        (linear1): Linear(in_features=768, out_features=3072, bias=True)\n        (dropout): Dropout(p=0.1, inplace=False)\n        (linear2): Linear(in_features=3072, out_features=768, bias=True)\n        (norm1): LayerNorm((768,), eps=1e-05, elementwise_affine=True)\n        (norm2): LayerNorm((768,), eps=1e-05, elementwise_affine=True)\n        (dropout1): Dropout(p=0.1, inplace=False)\n        (dropout2): Dropout(p=0.1, inplace=False)\n      )\n    )\n  )\n  (projections): ModuleList(\n    (0): Linear(in_features=96, out_features=192, bias=True)\n    (1): Linear(in_features=192, out_features=384, bias=True)\n    (2): Linear(in_features=384, out_features=768, bias=True)\n  )\n  (encoder_norm): LayerNorm((768,), eps=1e-05, elementwise_affine=True)\n  (decoder_embed): Linear(in_features=768, out_features=512, bias=True)\n  (decoder_blocks): ModuleList(\n    (0-7): 8 x TransformerDecoderLayer(\n      (self_attn): MultiheadAttention(\n        (out_proj): NonDynamicallyQuantizableLinear(in_features=512, out_features=512, bias=True)\n      )\n      (multihead_attn): MultiheadAttention(\n        (out_proj): NonDynamicallyQuantizableLinear(in_features=512, out_features=512, bias=True)\n      )\n      (linear1): Linear(in_features=512, out_features=2048, bias=True)\n      (dropout): Dropout(p=0.1, inplace=False)\n      (linear2): Linear(in_features=2048, out_features=512, bias=True)\n      (norm1): LayerNorm((512,), eps=1e-05, elementwise_affine=True)\n      (norm2): LayerNorm((512,), eps=1e-05, elementwise_affine=True)\n      (norm3): LayerNorm((512,), eps=1e-05, elementwise_affine=True)\n      (dropout1): Dropout(p=0.1, inplace=False)\n      (dropout2): Dropout(p=0.1, inplace=False)\n      (dropout3): Dropout(p=0.1, inplace=False)\n    )\n  )\n  (decoder_norm): LayerNorm((512,), eps=1e-05, elementwise_affine=True)\n  (decoder_pred): Linear(in_features=512, out_features=64, bias=True)\n)"
     },
     "execution_count": 28,
     "metadata": {},
     "output_type": "execute_result"
    }
   ],
   "source": [
    "model"
   ],
   "metadata": {
    "collapsed": false,
    "ExecuteTime": {
     "end_time": "2024-11-17T07:28:46.712641Z",
     "start_time": "2024-11-17T07:28:46.708389Z"
    }
   },
   "id": "e3ae78aa1a2035a7",
   "execution_count": 28
  },
  {
   "cell_type": "code",
   "outputs": [
    {
     "name": "stdout",
     "output_type": "stream",
     "text": [
      "Model size: 230.38 MB\n"
     ]
    }
   ],
   "source": [
    "# Calculate model size\n",
    "model_size = sum(p.numel() for p in model.parameters()) * 4 / (1024 ** 2)  # Size in MB\n",
    "print(f\"Model size: {model_size:.2f} MB\")"
   ],
   "metadata": {
    "collapsed": false,
    "ExecuteTime": {
     "end_time": "2024-11-17T07:28:48.013121Z",
     "start_time": "2024-11-17T07:28:48.009486Z"
    }
   },
   "id": "d705c141aa2b088b",
   "execution_count": 29
  },
  {
   "cell_type": "code",
   "outputs": [
    {
     "ename": "AttributeError",
     "evalue": "'MaskedAutoencoder3D' object has no attribute 'random_masking'",
     "output_type": "error",
     "traceback": [
      "\u001B[1;31m---------------------------------------------------------------------------\u001B[0m",
      "\u001B[1;31mAttributeError\u001B[0m                            Traceback (most recent call last)",
      "Cell \u001B[1;32mIn[30], line 3\u001B[0m\n\u001B[0;32m      1\u001B[0m \u001B[38;5;66;03m# Input: 3D MRI volume (B, C, D, H, W)\u001B[39;00m\n\u001B[0;32m      2\u001B[0m input_tensor \u001B[38;5;241m=\u001B[39m torch\u001B[38;5;241m.\u001B[39mrand(\u001B[38;5;241m1\u001B[39m, \u001B[38;5;241m1\u001B[39m, \u001B[38;5;241m48\u001B[39m, \u001B[38;5;241m48\u001B[39m, \u001B[38;5;241m48\u001B[39m)  \u001B[38;5;66;03m# Batch size 2, 1 channel\u001B[39;00m\n\u001B[1;32m----> 3\u001B[0m loss, pred, mask \u001B[38;5;241m=\u001B[39m model(input_tensor, mask_ratio\u001B[38;5;241m=\u001B[39m\u001B[38;5;241m0.75\u001B[39m)\n\u001B[0;32m      5\u001B[0m \u001B[38;5;66;03m# Outputs\u001B[39;00m\n\u001B[0;32m      6\u001B[0m \u001B[38;5;28mprint\u001B[39m(\u001B[38;5;124mf\u001B[39m\u001B[38;5;124m\"\u001B[39m\u001B[38;5;124mLoss: \u001B[39m\u001B[38;5;132;01m{\u001B[39;00mloss\u001B[38;5;241m.\u001B[39mitem()\u001B[38;5;132;01m}\u001B[39;00m\u001B[38;5;124m, Prediction Shape: \u001B[39m\u001B[38;5;132;01m{\u001B[39;00mpred\u001B[38;5;241m.\u001B[39mshape\u001B[38;5;132;01m}\u001B[39;00m\u001B[38;5;124m, Mask Shape: \u001B[39m\u001B[38;5;132;01m{\u001B[39;00mmask\u001B[38;5;241m.\u001B[39mshape\u001B[38;5;132;01m}\u001B[39;00m\u001B[38;5;124m\"\u001B[39m)\n",
      "File \u001B[1;32m~\\AppData\\Roaming\\Python\\Python311\\site-packages\\torch\\nn\\modules\\module.py:1511\u001B[0m, in \u001B[0;36mModule._wrapped_call_impl\u001B[1;34m(self, *args, **kwargs)\u001B[0m\n\u001B[0;32m   1509\u001B[0m     \u001B[38;5;28;01mreturn\u001B[39;00m \u001B[38;5;28mself\u001B[39m\u001B[38;5;241m.\u001B[39m_compiled_call_impl(\u001B[38;5;241m*\u001B[39margs, \u001B[38;5;241m*\u001B[39m\u001B[38;5;241m*\u001B[39mkwargs)  \u001B[38;5;66;03m# type: ignore[misc]\u001B[39;00m\n\u001B[0;32m   1510\u001B[0m \u001B[38;5;28;01melse\u001B[39;00m:\n\u001B[1;32m-> 1511\u001B[0m     \u001B[38;5;28;01mreturn\u001B[39;00m \u001B[38;5;28mself\u001B[39m\u001B[38;5;241m.\u001B[39m_call_impl(\u001B[38;5;241m*\u001B[39margs, \u001B[38;5;241m*\u001B[39m\u001B[38;5;241m*\u001B[39mkwargs)\n",
      "File \u001B[1;32m~\\AppData\\Roaming\\Python\\Python311\\site-packages\\torch\\nn\\modules\\module.py:1520\u001B[0m, in \u001B[0;36mModule._call_impl\u001B[1;34m(self, *args, **kwargs)\u001B[0m\n\u001B[0;32m   1515\u001B[0m \u001B[38;5;66;03m# If we don't have any hooks, we want to skip the rest of the logic in\u001B[39;00m\n\u001B[0;32m   1516\u001B[0m \u001B[38;5;66;03m# this function, and just call forward.\u001B[39;00m\n\u001B[0;32m   1517\u001B[0m \u001B[38;5;28;01mif\u001B[39;00m \u001B[38;5;129;01mnot\u001B[39;00m (\u001B[38;5;28mself\u001B[39m\u001B[38;5;241m.\u001B[39m_backward_hooks \u001B[38;5;129;01mor\u001B[39;00m \u001B[38;5;28mself\u001B[39m\u001B[38;5;241m.\u001B[39m_backward_pre_hooks \u001B[38;5;129;01mor\u001B[39;00m \u001B[38;5;28mself\u001B[39m\u001B[38;5;241m.\u001B[39m_forward_hooks \u001B[38;5;129;01mor\u001B[39;00m \u001B[38;5;28mself\u001B[39m\u001B[38;5;241m.\u001B[39m_forward_pre_hooks\n\u001B[0;32m   1518\u001B[0m         \u001B[38;5;129;01mor\u001B[39;00m _global_backward_pre_hooks \u001B[38;5;129;01mor\u001B[39;00m _global_backward_hooks\n\u001B[0;32m   1519\u001B[0m         \u001B[38;5;129;01mor\u001B[39;00m _global_forward_hooks \u001B[38;5;129;01mor\u001B[39;00m _global_forward_pre_hooks):\n\u001B[1;32m-> 1520\u001B[0m     \u001B[38;5;28;01mreturn\u001B[39;00m forward_call(\u001B[38;5;241m*\u001B[39margs, \u001B[38;5;241m*\u001B[39m\u001B[38;5;241m*\u001B[39mkwargs)\n\u001B[0;32m   1522\u001B[0m \u001B[38;5;28;01mtry\u001B[39;00m:\n\u001B[0;32m   1523\u001B[0m     result \u001B[38;5;241m=\u001B[39m \u001B[38;5;28;01mNone\u001B[39;00m\n",
      "Cell \u001B[1;32mIn[26], line 93\u001B[0m, in \u001B[0;36mMaskedAutoencoder3D.forward\u001B[1;34m(self, imgs, mask_ratio)\u001B[0m\n\u001B[0;32m     89\u001B[0m \u001B[38;5;28;01mdef\u001B[39;00m \u001B[38;5;21mforward\u001B[39m(\u001B[38;5;28mself\u001B[39m, imgs, mask_ratio\u001B[38;5;241m=\u001B[39m\u001B[38;5;241m0.75\u001B[39m):\n\u001B[0;32m     90\u001B[0m \u001B[38;5;250m    \u001B[39m\u001B[38;5;124;03m\"\"\"\u001B[39;00m\n\u001B[0;32m     91\u001B[0m \u001B[38;5;124;03m    Full forward pass through the MAE.\u001B[39;00m\n\u001B[0;32m     92\u001B[0m \u001B[38;5;124;03m    \"\"\"\u001B[39;00m\n\u001B[1;32m---> 93\u001B[0m     latent, mask, ids_restore \u001B[38;5;241m=\u001B[39m \u001B[38;5;28mself\u001B[39m\u001B[38;5;241m.\u001B[39mforward_encoder(imgs, mask_ratio)\n\u001B[0;32m     94\u001B[0m     pred \u001B[38;5;241m=\u001B[39m \u001B[38;5;28mself\u001B[39m\u001B[38;5;241m.\u001B[39mforward_decoder(latent, ids_restore)\n\u001B[0;32m     95\u001B[0m     loss \u001B[38;5;241m=\u001B[39m \u001B[38;5;28mself\u001B[39m\u001B[38;5;241m.\u001B[39mforward_loss(imgs, pred, mask)\n",
      "Cell \u001B[1;32mIn[26], line 64\u001B[0m, in \u001B[0;36mMaskedAutoencoder3D.forward_encoder\u001B[1;34m(self, x, mask_ratio)\u001B[0m\n\u001B[0;32m     62\u001B[0m         x \u001B[38;5;241m=\u001B[39m \u001B[38;5;28mself\u001B[39m\u001B[38;5;241m.\u001B[39mprojections[i](x)\n\u001B[0;32m     63\u001B[0m x \u001B[38;5;241m=\u001B[39m \u001B[38;5;28mself\u001B[39m\u001B[38;5;241m.\u001B[39mencoder_norm(x)  \u001B[38;5;66;03m# Normalize the final encoding\u001B[39;00m\n\u001B[1;32m---> 64\u001B[0m x, mask, ids_restore \u001B[38;5;241m=\u001B[39m \u001B[38;5;28mself\u001B[39m\u001B[38;5;241m.\u001B[39mrandom_masking(x, mask_ratio)\n\u001B[0;32m     65\u001B[0m \u001B[38;5;28;01mreturn\u001B[39;00m x, mask, ids_restore\n",
      "File \u001B[1;32m~\\AppData\\Roaming\\Python\\Python311\\site-packages\\torch\\nn\\modules\\module.py:1688\u001B[0m, in \u001B[0;36mModule.__getattr__\u001B[1;34m(self, name)\u001B[0m\n\u001B[0;32m   1686\u001B[0m     \u001B[38;5;28;01mif\u001B[39;00m name \u001B[38;5;129;01min\u001B[39;00m modules:\n\u001B[0;32m   1687\u001B[0m         \u001B[38;5;28;01mreturn\u001B[39;00m modules[name]\n\u001B[1;32m-> 1688\u001B[0m \u001B[38;5;28;01mraise\u001B[39;00m \u001B[38;5;167;01mAttributeError\u001B[39;00m(\u001B[38;5;124mf\u001B[39m\u001B[38;5;124m\"\u001B[39m\u001B[38;5;124m'\u001B[39m\u001B[38;5;132;01m{\u001B[39;00m\u001B[38;5;28mtype\u001B[39m(\u001B[38;5;28mself\u001B[39m)\u001B[38;5;241m.\u001B[39m\u001B[38;5;18m__name__\u001B[39m\u001B[38;5;132;01m}\u001B[39;00m\u001B[38;5;124m'\u001B[39m\u001B[38;5;124m object has no attribute \u001B[39m\u001B[38;5;124m'\u001B[39m\u001B[38;5;132;01m{\u001B[39;00mname\u001B[38;5;132;01m}\u001B[39;00m\u001B[38;5;124m'\u001B[39m\u001B[38;5;124m\"\u001B[39m)\n",
      "\u001B[1;31mAttributeError\u001B[0m: 'MaskedAutoencoder3D' object has no attribute 'random_masking'"
     ]
    }
   ],
   "source": [
    "# Test input\n",
    "input_tensor = torch.rand(2, 1, 128, 128, 128)  # Batch size 2, channels 1\n",
    "loss, pred, mask = model(input_tensor, mask_ratio=0.75)\n",
    "\n",
    "print(f\"Loss: {loss.item()}, Prediction Shape: {pred.shape}\")"
   ],
   "metadata": {
    "collapsed": false,
    "ExecuteTime": {
     "end_time": "2024-11-17T07:28:50.952798Z",
     "start_time": "2024-11-17T07:28:48.947688Z"
    }
   },
   "id": "340f11f534d14951",
   "execution_count": 30
  },
  {
   "cell_type": "code",
   "outputs": [],
   "source": [],
   "metadata": {
    "collapsed": false
   },
   "id": "ca20063139b5fe8a",
   "execution_count": null
  }
 ],
 "metadata": {
  "kernelspec": {
   "display_name": "Python 3",
   "language": "python",
   "name": "python3"
  },
  "language_info": {
   "codemirror_mode": {
    "name": "ipython",
    "version": 2
   },
   "file_extension": ".py",
   "mimetype": "text/x-python",
   "name": "python",
   "nbconvert_exporter": "python",
   "pygments_lexer": "ipython2",
   "version": "2.7.6"
  }
 },
 "nbformat": 4,
 "nbformat_minor": 5
}
