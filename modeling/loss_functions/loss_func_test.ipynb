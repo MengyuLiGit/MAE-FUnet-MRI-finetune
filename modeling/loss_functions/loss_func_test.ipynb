{
 "cells": [
  {
   "cell_type": "code",
   "id": "initial_id",
   "metadata": {
    "collapsed": true,
    "ExecuteTime": {
     "end_time": "2024-09-09T18:40:20.462390Z",
     "start_time": "2024-09-09T18:40:18.384222Z"
    }
   },
   "source": [
    "from modeling.loss_functions.dice_loss import DC_and_Focal_loss\n",
    "import torch\n",
    "import numpy as np\n",
    "import torch.nn.functional as F\n"
   ],
   "outputs": [
    {
     "name": "stdout",
     "output_type": "stream",
     "text": [
      "\n",
      "\n",
      "Please cite the following paper when using nnUNet:\n",
      "\n",
      "Isensee, F., Jaeger, P.F., Kohl, S.A.A. et al. \"nnU-Net: a self-configuring method for deep learning-based biomedical image segmentation.\" Nat Methods (2020). https://doi.org/10.1038/s41592-020-01008-z\n",
      "\n",
      "\n",
      "If you have questions or suggestions, feel free to open an issue at https://github.com/MIC-DKFZ/nnUNet\n",
      "\n",
      "nnUNet_raw_data_base is not defined and nnU-Net can only be used on data for which preprocessed files are already present on your system. nnU-Net cannot be used for experiment planning and preprocessing like this. If this is not intended, please read documentation/setting_up_paths.md for information on how to set this up properly.\n",
      "nnUNet_preprocessed is not defined and nnU-Net can not be used for preprocessing or training. If this is not intended, please read documentation/setting_up_paths.md for information on how to set this up.\n",
      "RESULTS_FOLDER is not defined and nnU-Net cannot be used for training or inference. If this is not intended behavior, please read documentation/setting_up_paths.md for information on how to set this up.\n"
     ]
    }
   ],
   "execution_count": 1
  },
  {
   "metadata": {
    "ExecuteTime": {
     "end_time": "2024-09-09T18:41:53.390335Z",
     "start_time": "2024-09-09T18:41:53.353979Z"
    }
   },
   "cell_type": "code",
   "source": [
    "asdnet = torch.rand(64, 2, 224, 224)\n",
    "asdtg = torch.rand(64, 224, 224)"
   ],
   "id": "41ad1d166d5d6df1",
   "outputs": [],
   "execution_count": 8
  },
  {
   "metadata": {
    "ExecuteTime": {
     "end_time": "2024-09-09T18:41:54.004813Z",
     "start_time": "2024-09-09T18:41:53.994429Z"
    }
   },
   "cell_type": "code",
   "source": [
    "loss = DC_and_Focal_loss({'batch_dice':False, 'smooth':1e-5,\n",
    "        \t'do_bg':False}, {'alpha':0.5, 'gamma':2, 'smooth':1e-5})"
   ],
   "id": "7d579cdc692760f",
   "outputs": [],
   "execution_count": 9
  },
  {
   "metadata": {
    "ExecuteTime": {
     "end_time": "2024-09-09T18:41:54.931650Z",
     "start_time": "2024-09-09T18:41:54.869239Z"
    }
   },
   "cell_type": "code",
   "source": "loss(asdnet,asdtg)",
   "id": "3fe0f233ff4e6161",
   "outputs": [
    {
     "data": {
      "text/plain": [
       "tensor(1.1029)"
      ]
     },
     "execution_count": 10,
     "metadata": {},
     "output_type": "execute_result"
    }
   ],
   "execution_count": 10
  },
  {
   "metadata": {
    "ExecuteTime": {
     "end_time": "2024-09-09T18:40:20.691482Z",
     "start_time": "2024-09-09T18:40:20.688099Z"
    }
   },
   "cell_type": "code",
   "source": "",
   "id": "dc5b37f504662d3f",
   "outputs": [],
   "execution_count": 4
  }
 ],
 "metadata": {
  "kernelspec": {
   "display_name": "Python 3",
   "language": "python",
   "name": "python3"
  },
  "language_info": {
   "codemirror_mode": {
    "name": "ipython",
    "version": 2
   },
   "file_extension": ".py",
   "mimetype": "text/x-python",
   "name": "python",
   "nbconvert_exporter": "python",
   "pygments_lexer": "ipython2",
   "version": "2.7.6"
  }
 },
 "nbformat": 4,
 "nbformat_minor": 5
}
